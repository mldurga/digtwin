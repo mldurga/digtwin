{
 "cells": [
  {
   "cell_type": "markdown",
   "metadata": {},
   "source": [
    "# PI DigitalTwin\n",
    "\n",
    "> PI Digitaltwin Best Practices"
   ]
  },
  {
   "cell_type": "markdown",
   "metadata": {},
   "source": [
    "# AVEVA PI System Integration: Template Guide\n",
    "\n",
    "## Introduction: Overview\n",
    "\n",
    "This document provides a comprehensive guide to PI DIGITAL TWIN for Operations, offering best practices for PI System customers seeking around-the-clock surveillance of industrial assets with fault diagnostics and prescriptive actions. These practices address naming patterns, time series pattern recognition, anomaly detection, subscriptions, prescribed actions, visualization, and reporting.\n",
    "\n",
    "## Key Output\n",
    "\n",
    "The critical output from a PI Digital Twin for operations are anomalies (exceptions) found in time series historical data. Anomalies are detected by the PI system and become cases for the operations team to resolve. Case records store alerts, annotation, user names, procedures, links, photos, files, sensor data, related data, and calculations.\n",
    "\n",
    "## Value Proposition\n",
    "\n",
    "The PI Digital Twin delivers value to operations customers in these areas:\n",
    "\n",
    "* More discovery of root causes of poor performance\n",
    "* More process insight and data driven decisions\n",
    "* Reduced PI software configuration costs\n",
    "* Reduced need for 3rd party solutions on top of the PI System\n",
    "\n",
    "## PI Digital Twin Library Suite\n",
    "\n",
    "The table below outlines the libraries and templates available to accelerate building Digital Twin systems in the PI System.\n",
    "\n",
    "| Library (Abbrev) | Purpose | Best Practices | Asset Templates | Accessory Templates | Overlays |\n",
    "|:--|:--|:--|:--|:--|:--|\n",
    "| BASE (BAS) | Foundation of Containers, Asset classes, Asset super classes, Global Accessories | Layered Libraries, Cascaded Naming | Containers | SingleAnalog Sensor, DifferentialAnalog, Global Configuration | |\n",
    "| Pumps (PMP) Rotating Equipment | Detect anomalies in pump performance | Primary Asset, Lowest Start, Parent\\Child Flex, Sibling Comm | Centrifugal Pump | Pump Efficiency | |\n",
    "| Heat Exchangers (HEX) Fixed Equipment | Detect anomalies in Heat Exchanger performance | Primary Asset, Lowest Start, Parent\\Child Flex | Heat Exchanger | HEX Fouling | |\n",
    "| Valves (VLV) | Detect anomalies in control valve performance | Primary Asset, Lowest Start | Control Valve, Block Valve | Cv Flow Calculation | |\n",
    "| Motors (MTR) Powered Assets | Detect anomalies in AC Electric motor operation and health | Secondary Asset, Template Inheritance: Control Based, OEM Drill-In, Sibling Comm | Motor DOL | Motor NamePlate, Motor 3PH Power, Motor Slip | |\n",
    "| Forecasting (FOR) | Time series pattern recognition of trends with projection into future data | Future Data, TSPR, Accessory flexibility | | Forecast | |\n",
    "| Controllers (CTL) | Detect anomalies in control performance to indicate physical anomalies and poor operation | Parent\\Child Flex, TSPR | | PID Controller, PID Controller Strain, PID KPI | |\n",
    "| Asset Specifications (ASP) | Basic Asset specification: Mfr, Model, Size | Element Overlay | | | Assets |\n",
    "| Vibration Monitoring (VIB) | Detect anomalies in vibration. ISO/TC 108/SC 5 Condition monitoring and diagnostics of machine systems | Parent\\Child Flex, TSPR, Related Data Reqmts | | Accelerometer, Proximity Probe, Fault Frequency | |\n",
    "| Energy Management Electrical (EME) | Detect anomalies in power consumption | Element Overlay | | Power Meter | Containers, Assets, Powered Assets |\n",
    "| Geographic Location (GEO) | Link to Map using Latitude, Longitude | Element Overlay, URI External | | | Assets |\n",
    "| UI Bridge – IBM Maximo (MAX) | Links to IBM Maximo w/ asset context | Element Overlay, URI External | | | Assets |\n",
    "| UI Bridge – SAP (SAP) | Links to SAP/Plant Maintenance w/ asset context | Element Overlay, URI External | | | Assets |\n",
    "\n",
    "## What is a Digital Twin\n",
    "\n",
    "A Digital Twin is a digital replica of physical assets built to compare live performance against expected performance. The PI system is often used to make a digital twin for physical assets in industrial operations. PI is well suited for digital twins since PI is a single system of record across disparate data sources.\n",
    "\n",
    "## How to Start a PI Digital Twin\n",
    "\n",
    "PI Digital Twin best practices are included in a PI Asset Framework library kit with PIVision displays. This kit is delivered by AVEVA engineers in a coaching workshop. The Digital Twin kit for the PI System extends the PI infrastructure to ensure a swift and sturdy launch of a Digital Twin.\n",
    "\n",
    "## Advanced PI Digital Twin Best Practices\n",
    "\n",
    "**Data compression** – Compression settings for sensor data is best managed as a function and responsibility of the asset template. This practice avoids excessive computational load when compression settings are not consistently set.\n",
    "\n",
    "**Data Quality/Censoring** – Physical characteristics and operating principles should be used to further validate incoming sensor data and discard data that would otherwise generate false alerts and add excessive computational load.\n",
    "\n",
    "**Asset Families and Accessories deliver more at greater Depth** – Many assets and accessories start with models having minimal data streams and then include advanced siblings and/or offspring with additional data streams.\n",
    "\n",
    "### Links\n",
    "[Best Practices](https://osisoft.lightning.force.com/lightning/r/Knowledge__kav/ka01I000000fNAsQAM/view)"
   ]
  },
  {
   "cell_type": "code",
   "execution_count": null,
   "metadata": {},
   "outputs": [],
   "source": []
  }
 ],
 "metadata": {
  "kernelspec": {
   "display_name": "python3",
   "language": "python",
   "name": "python3"
  }
 },
 "nbformat": 4,
 "nbformat_minor": 4
}
